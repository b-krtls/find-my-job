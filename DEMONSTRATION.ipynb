{
 "cells": [
  {
   "cell_type": "markdown",
   "metadata": {},
   "source": []
  },
  {
   "cell_type": "markdown",
   "metadata": {},
   "source": [
    "# Demonstration of The Code Functionality\n",
    "\n",
    "This Jupyter notebook will exemplify the functionality of this tool"
   ]
  },
  {
   "cell_type": "code",
   "execution_count": 2,
   "metadata": {},
   "outputs": [],
   "source": [
    "import findmyjob"
   ]
  },
  {
   "cell_type": "code",
   "execution_count": 17,
   "metadata": {},
   "outputs": [
    {
     "data": {
      "text/plain": [
       "[\"'Hello World'\"]"
      ]
     },
     "execution_count": 17,
     "metadata": {},
     "output_type": "execute_result"
    }
   ],
   "source": [
    "%%system\n",
    "echo 'Hello World'\n"
   ]
  },
  {
   "cell_type": "code",
   "execution_count": 4,
   "metadata": {},
   "outputs": [
    {
     "name": "stdout",
     "output_type": "stream",
     "text": [
      "Done\n"
     ]
    }
   ],
   "source": [
    "import asyncio\n",
    "import timeit\n",
    "\n",
    "await asyncio.sleep(3)\n",
    "print(\"Done\")\n",
    "\n"
   ]
  },
  {
   "cell_type": "code",
   "execution_count": 1,
   "metadata": {},
   "outputs": [],
   "source": [
    "from findmyjob.jobsearcher import JobSearcher"
   ]
  },
  {
   "cell_type": "code",
   "execution_count": 2,
   "metadata": {},
   "outputs": [
    {
     "data": {
      "text/plain": [
       "['Hello World']"
      ]
     },
     "execution_count": 2,
     "metadata": {},
     "output_type": "execute_result"
    }
   ],
   "source": [
    "%%system\n",
    "main.py"
   ]
  },
  {
   "cell_type": "code",
   "execution_count": 23,
   "metadata": {},
   "outputs": [
    {
     "data": {
      "text/plain": [
       "['Traceback (most recent call last):',\n",
       " '  File \"C:\\\\Users\\\\brknk\\\\Documents\\\\05 Getting_Employed\\\\99_Programming\\\\02_Projects\\\\findmyfuturejob\\\\findmyjob_cli.py\", line 4, in <module>',\n",
       " '    main()',\n",
       " '  File \"C:\\\\Users\\\\brknk\\\\Documents\\\\05 Getting_Employed\\\\99_Programming\\\\02_Projects\\\\findmyfuturejob\\\\findmyjob\\\\findmyjob.py\", line 221, in main',\n",
       " '    CLI_ARGS = parse_cli_inputs()',\n",
       " '  File \"C:\\\\Users\\\\brknk\\\\Documents\\\\05 Getting_Employed\\\\99_Programming\\\\02_Projects\\\\findmyfuturejob\\\\findmyjob\\\\findmyjob.py\", line 179, in parse_cli_inputs',\n",
       " '    subp1_gen_group = subparser_gen.add_mutually_exclusive_group(',\n",
       " \"AttributeError: '_SubParsersAction' object has no attribute 'add_mutually_exclusive_group'\"]"
      ]
     },
     "execution_count": 23,
     "metadata": {},
     "output_type": "execute_result"
    }
   ],
   "source": [
    "%%system\n",
    "python findmyjob_cli.py -h"
   ]
  },
  {
   "cell_type": "code",
   "execution_count": 12,
   "metadata": {},
   "outputs": [
    {
     "data": {
      "text/plain": [
       "['usage: __main__.py execute [-h] (-f FILE | -s SINGLE) [--headless]',\n",
       " '                           [--incognito] [--log]',\n",
       " '',\n",
       " 'optional arguments:',\n",
       " '  -h, --help            show this help message and exit',\n",
       " '  -f FILE, --with-file FILE',\n",
       " '                        Execute the tool with a config file',\n",
       " '  -s SINGLE, --single SINGLE',\n",
       " '                        Execute the tool with singular arguments',\n",
       " '  --headless            Run WebDriver in headless mode',\n",
       " '  --incognito           Run WebDriver in incognito mode',\n",
       " '  --log                 Log the execution history in current working directory']"
      ]
     },
     "execution_count": 12,
     "metadata": {},
     "output_type": "execute_result"
    }
   ],
   "source": [
    "%%system\n",
    "python -m findmyjob execute -h"
   ]
  },
  {
   "cell_type": "code",
   "execution_count": 19,
   "metadata": {},
   "outputs": [
    {
     "data": {
      "text/plain": [
       "['Traceback (most recent call last):',\n",
       " '  File \".\\\\\\\\findmyjob\\\\\\\\findmyjob.py\", line 20, in <module>',\n",
       " '    from .jobsearcher import JobSearcher',\n",
       " 'ImportError: attempted relative import with no known parent package']"
      ]
     },
     "execution_count": 19,
     "metadata": {},
     "output_type": "execute_result"
    }
   ],
   "source": [
    "%%system\n",
    "python .\\\\findmyjob\\\\findmyjob.py execute -h"
   ]
  },
  {
   "cell_type": "code",
   "execution_count": null,
   "metadata": {},
   "outputs": [],
   "source": []
  }
 ],
 "metadata": {
  "interpreter": {
   "hash": "be5953fa005b10c032977b6860fddd21cab7270aabecee89dca557ea39b21103"
  },
  "kernelspec": {
   "display_name": "Python 3.8.12 64-bit ('base': conda)",
   "language": "python",
   "name": "python3"
  },
  "language_info": {
   "codemirror_mode": {
    "name": "ipython",
    "version": 3
   },
   "file_extension": ".py",
   "mimetype": "text/x-python",
   "name": "python",
   "nbconvert_exporter": "python",
   "pygments_lexer": "ipython3",
   "version": "3.8.12"
  },
  "orig_nbformat": 4
 },
 "nbformat": 4,
 "nbformat_minor": 2
}
